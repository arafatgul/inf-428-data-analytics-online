{
 "cells": [
  {
   "cell_type": "markdown",
   "metadata": {},
   "source": [
    "In this example we work through how to calculate the machine learning metrics, sensitivity, specificity, precision, and recall.  \n",
    "\n",
    "Here are the metrics reported from the KNIME scorer in the 'diabetesKNearestNeighbor' workflow. \n",
    "\n",
    "<img src=\"KNIMEMetrics.jpg\" width=\"1000\">  \n"
   ]
  },
  {
   "cell_type": "code",
   "execution_count": 24,
   "metadata": {},
   "outputs": [],
   "source": [
    "# let's assign the true/false positive and true/false negatives to variables\n",
    "\n",
    "true_pos_normal=138\n",
    "false_pos_normal=28\n",
    "true_neg_normal=40\n",
    "false_neg_normal=30\n",
    "\n",
    "# we also need the total number of normal, which are true positive normal + false negative normal\n",
    "total_normal=true_pos_normal+false_neg_normal\n",
    "\n",
    "true_pos_diabetes=40\n",
    "false_pos_diabetes=30\n",
    "true_neg_diabetes=138\n",
    "false_neg_diabetes=28\n",
    "\n",
    "# we need total with diabetes which is true pos diabetes + false neg diabetes (ie negative with diabetes)\n",
    "total_diabetes=true_pos_diabetes+false_neg_diabetes\n",
    "\n",
    "# and the total detected diabetes, total detected positive for diabetes\n",
    "total_detected_diabetes = true_pos_diabetes+false_pos_diabetes\n",
    "\n"
   ]
  },
  {
   "cell_type": "code",
   "execution_count": 25,
   "metadata": {},
   "outputs": [
    {
     "name": "stdout",
     "output_type": "stream",
     "text": [
      "0.5882352941176471\n"
     ]
    }
   ],
   "source": [
    "# sensitivity is correctly detected with diabetes divided by total with diabetes\n",
    "sensitivity = true_pos_diabetes/(total_diabetes)\n",
    "print(sensitivity)"
   ]
  },
  {
   "cell_type": "code",
   "execution_count": 26,
   "metadata": {},
   "outputs": [
    {
     "name": "stdout",
     "output_type": "stream",
     "text": [
      "0.8214285714285714\n"
     ]
    }
   ],
   "source": [
    "# specifity is correctly detected as normal divided by total normal\n",
    "specificity = true_pos_normal/total_normal\n",
    "print(specificity)"
   ]
  },
  {
   "cell_type": "code",
   "execution_count": 27,
   "metadata": {},
   "outputs": [
    {
     "name": "stdout",
     "output_type": "stream",
     "text": [
      "0.5714285714285714\n"
     ]
    }
   ],
   "source": [
    "# precision is correctly detected with diabetes / total detected with diabetes\n",
    "precision = true_pos_diabetes/total_detected_diabetes\n",
    "print(precision)"
   ]
  },
  {
   "cell_type": "code",
   "execution_count": 28,
   "metadata": {},
   "outputs": [
    {
     "name": "stdout",
     "output_type": "stream",
     "text": [
      "0.5882352941176471\n"
     ]
    }
   ],
   "source": [
    "# and finally recall is correctly detected with diabetes divided by total with diabetes\n",
    "# (same as sensitiviy)\n",
    "recall = true_pos_diabetes/(total_diabetes)\n",
    "print(recall)"
   ]
  },
  {
   "cell_type": "code",
   "execution_count": null,
   "metadata": {},
   "outputs": [],
   "source": []
  }
 ],
 "metadata": {
  "kernelspec": {
   "display_name": "Python 3",
   "language": "python",
   "name": "python3"
  },
  "language_info": {
   "codemirror_mode": {
    "name": "ipython",
    "version": 3
   },
   "file_extension": ".py",
   "mimetype": "text/x-python",
   "name": "python",
   "nbconvert_exporter": "python",
   "pygments_lexer": "ipython3",
   "version": "3.7.3"
  }
 },
 "nbformat": 4,
 "nbformat_minor": 2
}
