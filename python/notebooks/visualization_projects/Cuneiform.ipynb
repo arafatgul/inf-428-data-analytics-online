{
 "cells": [
  {
   "cell_type": "code",
   "execution_count": 1,
   "metadata": {},
   "outputs": [],
   "source": [
    "import pandas as pd"
   ]
  },
  {
   "cell_type": "code",
   "execution_count": 30,
   "metadata": {},
   "outputs": [],
   "source": [
    "# read the data (not included on git as it is huge)\n",
    "data=pd.read_csv('cdli-catalogue.csv')"
   ]
  },
  {
   "cell_type": "code",
   "execution_count": 31,
   "metadata": {},
   "outputs": [
    {
     "data": {
      "text/plain": [
       "(322717, 63)"
      ]
     },
     "execution_count": 31,
     "metadata": {},
     "output_type": "execute_result"
    }
   ],
   "source": [
    "# take a look at the size of the data\n",
    "data.shape"
   ]
  },
  {
   "cell_type": "code",
   "execution_count": 32,
   "metadata": {},
   "outputs": [
    {
     "data": {
      "text/html": [
       "<div>\n",
       "<style scoped>\n",
       "    .dataframe tbody tr th:only-of-type {\n",
       "        vertical-align: middle;\n",
       "    }\n",
       "\n",
       "    .dataframe tbody tr th {\n",
       "        vertical-align: top;\n",
       "    }\n",
       "\n",
       "    .dataframe thead th {\n",
       "        text-align: right;\n",
       "    }\n",
       "</style>\n",
       "<table border=\"1\" class=\"dataframe\">\n",
       "  <thead>\n",
       "    <tr style=\"text-align: right;\">\n",
       "      <th></th>\n",
       "      <th>accession_no</th>\n",
       "      <th>accounting_period</th>\n",
       "      <th>acquisition_history</th>\n",
       "      <th>alternative_years</th>\n",
       "      <th>ark_number</th>\n",
       "      <th>atf_source</th>\n",
       "      <th>atf_up</th>\n",
       "      <th>author</th>\n",
       "      <th>author_remarks</th>\n",
       "      <th>cdli_collation</th>\n",
       "      <th>...</th>\n",
       "      <th>seal_id</th>\n",
       "      <th>seal_information</th>\n",
       "      <th>stratigraphic_level</th>\n",
       "      <th>subgenre</th>\n",
       "      <th>subgenre_remarks</th>\n",
       "      <th>surface_preservation</th>\n",
       "      <th>text_remarks</th>\n",
       "      <th>thickness</th>\n",
       "      <th>translation_source</th>\n",
       "      <th>width</th>\n",
       "    </tr>\n",
       "  </thead>\n",
       "  <tbody>\n",
       "    <tr>\n",
       "      <th>0</th>\n",
       "      <td>NaN</td>\n",
       "      <td>NaN</td>\n",
       "      <td>NaN</td>\n",
       "      <td>NaN</td>\n",
       "      <td>21198/zz001q0dtm</td>\n",
       "      <td>Englund, Robert K.</td>\n",
       "      <td>NaN</td>\n",
       "      <td>CDLI</td>\n",
       "      <td>31x61x18; Lú A 14-16.30-32.48-50; M XVIII, auf...</td>\n",
       "      <td>NaN</td>\n",
       "      <td>...</td>\n",
       "      <td></td>\n",
       "      <td>NaN</td>\n",
       "      <td>NaN</td>\n",
       "      <td>Archaic Lu2 A (witness)</td>\n",
       "      <td>NaN</td>\n",
       "      <td>NaN</td>\n",
       "      <td>NaN</td>\n",
       "      <td>18</td>\n",
       "      <td>NaN</td>\n",
       "      <td>61</td>\n",
       "    </tr>\n",
       "    <tr>\n",
       "      <th>1</th>\n",
       "      <td>NaN</td>\n",
       "      <td>NaN</td>\n",
       "      <td>NaN</td>\n",
       "      <td>NaN</td>\n",
       "      <td>21198/zz001q0dv4</td>\n",
       "      <td>Englund, Robert K.</td>\n",
       "      <td>NaN</td>\n",
       "      <td>CDLI</td>\n",
       "      <td>30x48x13; Lú A 13-15.23-25.?; Fundstelle wie W...</td>\n",
       "      <td>NaN</td>\n",
       "      <td>...</td>\n",
       "      <td>NaN</td>\n",
       "      <td>NaN</td>\n",
       "      <td>NaN</td>\n",
       "      <td>Archaic Lu2 A (witness)</td>\n",
       "      <td>NaN</td>\n",
       "      <td>NaN</td>\n",
       "      <td>NaN</td>\n",
       "      <td>13</td>\n",
       "      <td>NaN</td>\n",
       "      <td>48</td>\n",
       "    </tr>\n",
       "    <tr>\n",
       "      <th>2</th>\n",
       "      <td>NaN</td>\n",
       "      <td>NaN</td>\n",
       "      <td>NaN</td>\n",
       "      <td>NaN</td>\n",
       "      <td>21198/zz001q0dwn</td>\n",
       "      <td>Englund, Robert K.</td>\n",
       "      <td>NaN</td>\n",
       "      <td>Englund, Robert K. &amp; Nissen, Hans J.</td>\n",
       "      <td>42x53x19; Vocabulary 9; Qa XVI,2, unter der Ab...</td>\n",
       "      <td>NaN</td>\n",
       "      <td>...</td>\n",
       "      <td>NaN</td>\n",
       "      <td>NaN</td>\n",
       "      <td>NaN</td>\n",
       "      <td>witness Archaic Vocabulary</td>\n",
       "      <td>Text category: 15-09; Foreign ID: LVO 9</td>\n",
       "      <td>NaN</td>\n",
       "      <td>NaN</td>\n",
       "      <td>19</td>\n",
       "      <td>NaN</td>\n",
       "      <td>53</td>\n",
       "    </tr>\n",
       "    <tr>\n",
       "      <th>3</th>\n",
       "      <td>NaN</td>\n",
       "      <td>NaN</td>\n",
       "      <td>NaN</td>\n",
       "      <td>NaN</td>\n",
       "      <td>21198/zz001q0dx5</td>\n",
       "      <td>Englund, Robert K.</td>\n",
       "      <td>NaN</td>\n",
       "      <td>CDLI</td>\n",
       "      <td>26x23x23; Lú A 9-10.?.?; Fundstelle wie W 9123...</td>\n",
       "      <td>NaN</td>\n",
       "      <td>...</td>\n",
       "      <td>NaN</td>\n",
       "      <td>NaN</td>\n",
       "      <td>NaN</td>\n",
       "      <td>Archaic Lu2 A (witness)</td>\n",
       "      <td>NaN</td>\n",
       "      <td>NaN</td>\n",
       "      <td>NaN</td>\n",
       "      <td>23</td>\n",
       "      <td>NaN</td>\n",
       "      <td>23</td>\n",
       "    </tr>\n",
       "    <tr>\n",
       "      <th>4</th>\n",
       "      <td>NaN</td>\n",
       "      <td>NaN</td>\n",
       "      <td>NaN</td>\n",
       "      <td>NaN</td>\n",
       "      <td>21198/zz001q0dzp</td>\n",
       "      <td>Englund, Robert K.</td>\n",
       "      <td>NaN</td>\n",
       "      <td>CDLI</td>\n",
       "      <td>29x36x20; Lú A Vorläufer; Qa XVI,2, unter der ...</td>\n",
       "      <td>NaN</td>\n",
       "      <td>...</td>\n",
       "      <td>NaN</td>\n",
       "      <td>NaN</td>\n",
       "      <td>NaN</td>\n",
       "      <td>Archaic Lu2 A (witness)</td>\n",
       "      <td>NaN</td>\n",
       "      <td>NaN</td>\n",
       "      <td>NaN</td>\n",
       "      <td>20</td>\n",
       "      <td>NaN</td>\n",
       "      <td>36</td>\n",
       "    </tr>\n",
       "  </tbody>\n",
       "</table>\n",
       "<p>5 rows × 63 columns</p>\n",
       "</div>"
      ],
      "text/plain": [
       "  accession_no accounting_period acquisition_history alternative_years  \\\n",
       "0          NaN               NaN                 NaN               NaN   \n",
       "1          NaN               NaN                 NaN               NaN   \n",
       "2          NaN               NaN                 NaN               NaN   \n",
       "3          NaN               NaN                 NaN               NaN   \n",
       "4          NaN               NaN                 NaN               NaN   \n",
       "\n",
       "         ark_number          atf_source atf_up  \\\n",
       "0  21198/zz001q0dtm  Englund, Robert K.    NaN   \n",
       "1  21198/zz001q0dv4  Englund, Robert K.    NaN   \n",
       "2  21198/zz001q0dwn  Englund, Robert K.    NaN   \n",
       "3  21198/zz001q0dx5  Englund, Robert K.    NaN   \n",
       "4  21198/zz001q0dzp  Englund, Robert K.    NaN   \n",
       "\n",
       "                                 author  \\\n",
       "0                                  CDLI   \n",
       "1                                  CDLI   \n",
       "2  Englund, Robert K. & Nissen, Hans J.   \n",
       "3                                  CDLI   \n",
       "4                                  CDLI   \n",
       "\n",
       "                                      author_remarks cdli_collation  ...  \\\n",
       "0  31x61x18; Lú A 14-16.30-32.48-50; M XVIII, auf...            NaN  ...   \n",
       "1  30x48x13; Lú A 13-15.23-25.?; Fundstelle wie W...            NaN  ...   \n",
       "2  42x53x19; Vocabulary 9; Qa XVI,2, unter der Ab...            NaN  ...   \n",
       "3  26x23x23; Lú A 9-10.?.?; Fundstelle wie W 9123...            NaN  ...   \n",
       "4  29x36x20; Lú A Vorläufer; Qa XVI,2, unter der ...            NaN  ...   \n",
       "\n",
       "  seal_id seal_information stratigraphic_level                    subgenre  \\\n",
       "0       \n",
       "              NaN                 NaN     Archaic Lu2 A (witness)   \n",
       "1     NaN              NaN                 NaN     Archaic Lu2 A (witness)   \n",
       "2     NaN              NaN                 NaN  witness Archaic Vocabulary   \n",
       "3     NaN              NaN                 NaN     Archaic Lu2 A (witness)   \n",
       "4     NaN              NaN                 NaN     Archaic Lu2 A (witness)   \n",
       "\n",
       "                          subgenre_remarks surface_preservation text_remarks  \\\n",
       "0                                      NaN                  NaN          NaN   \n",
       "1                                      NaN                  NaN          NaN   \n",
       "2  Text category: 15-09; Foreign ID: LVO 9                  NaN          NaN   \n",
       "3                                      NaN                  NaN          NaN   \n",
       "4                                      NaN                  NaN          NaN   \n",
       "\n",
       "  thickness translation_source width  \n",
       "0        18                NaN    61  \n",
       "1        13                NaN    48  \n",
       "2        19                NaN    53  \n",
       "3        23                NaN    23  \n",
       "4        20                NaN    36  \n",
       "\n",
       "[5 rows x 63 columns]"
      ]
     },
     "execution_count": 32,
     "metadata": {},
     "output_type": "execute_result"
    }
   ],
   "source": [
    "# and the first few rows\n",
    "data.head()"
   ]
  },
  {
   "cell_type": "code",
   "execution_count": 33,
   "metadata": {},
   "outputs": [
    {
     "data": {
      "text/plain": [
       "Index(['accession_no', 'accounting_period', 'acquisition_history',\n",
       "       'alternative_years', 'ark_number', 'atf_source', 'atf_up', 'author',\n",
       "       'author_remarks', 'cdli_collation', 'cdli_comments', 'citation',\n",
       "       'collection', 'composite', 'condition_description', 'date_entered',\n",
       "       'date_of_origin', 'date_remarks', 'date_updated', 'dates_referenced',\n",
       "       'db_source', 'designation', 'dumb', 'dumb2', 'electronic_publication',\n",
       "       'elevation', 'excavation_no', 'external_id', 'findspot_remarks',\n",
       "       'findspot_square', 'genre', 'google_earth_collection',\n",
       "       'google_earth_provenience', 'height', 'id', 'id_text2', 'id_text',\n",
       "       'join_information', 'language', 'lineart_up', 'material', 'museum_no',\n",
       "       'object_preservation', 'object_type', 'period', 'period_remarks',\n",
       "       'photo_up', 'primary_publication', 'provenience', 'provenience_remarks',\n",
       "       'publication_date', 'publication_history', 'published_collation',\n",
       "       'seal_id', 'seal_information', 'stratigraphic_level', 'subgenre',\n",
       "       'subgenre_remarks', 'surface_preservation', 'text_remarks', 'thickness',\n",
       "       'translation_source', 'width'],\n",
       "      dtype='object')"
      ]
     },
     "execution_count": 33,
     "metadata": {},
     "output_type": "execute_result"
    }
   ],
   "source": [
    "# now take a look at the columns\n",
    "data.columns"
   ]
  },
  {
   "cell_type": "code",
   "execution_count": 6,
   "metadata": {},
   "outputs": [
    {
     "data": {
      "text/plain": [
       "0    Vorderasiatisches Museum, Berlin, Germany\n",
       "1    Vorderasiatisches Museum, Berlin, Germany\n",
       "2    Vorderasiatisches Museum, Berlin, Germany\n",
       "3    Vorderasiatisches Museum, Berlin, Germany\n",
       "4    Vorderasiatisches Museum, Berlin, Germany\n",
       "Name: collection, dtype: object"
      ]
     },
     "execution_count": 6,
     "metadata": {},
     "output_type": "execute_result"
    }
   ],
   "source": [
    "# I know from opening up the data in excel that there is a 'collection' collumn which contains the name of the country\n",
    "# the collection is from let's take a look at this\n",
    "data.collection.head()"
   ]
  },
  {
   "cell_type": "code",
   "execution_count": 47,
   "metadata": {},
   "outputs": [],
   "source": [
    "# OK... let's see if we can create a function that strips the country from the collection\n",
    "def getCountryFromCollection(collection):\n",
    "    # first make sure collection is a string\n",
    "    collection=str(collection)\n",
    "    # now split using the column\n",
    "    collection=collection.split(',')\n",
    "    # now get the last part of the split (-1 signifies the end of an array)\n",
    "    country=collection[-1]\n",
    "    # now get rid of ? and ) \n",
    "    country=country.replace(\"?\",\"\")\n",
    "    # sometimes there is extra information after the country surrounded by parenthesis, get rid of that\n",
    "    country=country.split('(')[0]\n",
    "    country=country.replace(\")\",\"\")\n",
    "    country=country.strip()\n",
    "    return country\n",
    "    \n",
    "#data['country']=data.collection.apply(lambda x: str(x).split(',')[-1].strip())"
   ]
  },
  {
   "cell_type": "code",
   "execution_count": 51,
   "metadata": {},
   "outputs": [],
   "source": [
    "# create a new column called country by applying the above function to every 'collection' entry\n",
    "data['country']=data.collection.apply(lambda x: getCountryFromCollection(x))"
   ]
  },
  {
   "cell_type": "code",
   "execution_count": 49,
   "metadata": {},
   "outputs": [],
   "source": [
    "countries=data['country'].value_counts()"
   ]
  },
  {
   "cell_type": "code",
   "execution_count": 50,
   "metadata": {},
   "outputs": [
    {
     "data": {
      "text/plain": [
       "UK                              79831\n",
       "Turkey                          34870\n",
       "Syria                           19225\n",
       "France                          15462\n",
       "Iraq                            15363\n",
       "Germany                         14965\n",
       "unlocated                       12257\n",
       "nan                              9435\n",
       "Norway                           4293\n",
       "Russian Federation               2822\n",
       "Holland                          2805\n",
       "Italy                            2098\n",
       "Spain                            1555\n",
       "Canada                           1551\n",
       "Iran                             1102\n",
       "Switzerland                      1086\n",
       "Japan                             826\n",
       "Jerusalem                         738\n",
       "Belgium                           697\n",
       "University of Heidelberg          696\n",
       "Czech Republic                    472\n",
       "Jordan                            353\n",
       "Russian                           252\n",
       "Ireland                           243\n",
       "Egypt                             236\n",
       "Lebanon                           215\n",
       "Mrs. W. H.                        198\n",
       "Europe                            141\n",
       "Denmark                           126\n",
       "Australia                         124\n",
       "Israel                            101\n",
       "Finland                            56\n",
       "Sweden                             47\n",
       "Austria                            42\n",
       "private: Foroughi collecllon       39\n",
       "Poland                             37\n",
       "Luxemburg                          36\n",
       "Missouri                           29\n",
       "Hungary                            22\n",
       "32811 USA                          14\n",
       "Luxembourg                          9\n",
       "Connecticut                         8\n",
       "Brazil                              8\n",
       "Croatia                             7\n",
       "Bulgaria                            6\n",
       "Collection Albert Maignan           5\n",
       "India                               5\n",
       "p. 384f.                            5\n",
       "private: H. V. Hilprecht            5\n",
       "Name: country, dtype: int64"
      ]
     },
     "execution_count": 50,
     "metadata": {},
     "output_type": "execute_result"
    }
   ],
   "source": [
    "countries[1:50]"
   ]
  },
  {
   "cell_type": "code",
   "execution_count": null,
   "metadata": {},
   "outputs": [],
   "source": []
  }
 ],
 "metadata": {
  "kernelspec": {
   "display_name": "Python 3",
   "language": "python",
   "name": "python3"
  },
  "language_info": {
   "codemirror_mode": {
    "name": "ipython",
    "version": 3
   },
   "file_extension": ".py",
   "mimetype": "text/x-python",
   "name": "python",
   "nbconvert_exporter": "python",
   "pygments_lexer": "ipython3",
   "version": "3.7.3"
  }
 },
 "nbformat": 4,
 "nbformat_minor": 2
}
