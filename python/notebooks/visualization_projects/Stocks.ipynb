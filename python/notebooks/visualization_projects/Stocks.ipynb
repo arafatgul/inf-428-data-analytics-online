{
 "cells": [
  {
   "cell_type": "code",
   "execution_count": 44,
   "metadata": {},
   "outputs": [],
   "source": [
    "import pandas as pd\n",
    "\n",
    "# this function is used to display tables in a neat way\n",
    "from IPython.display import display"
   ]
  },
  {
   "cell_type": "code",
   "execution_count": 45,
   "metadata": {},
   "outputs": [],
   "source": [
    "# read the csv files\n",
    "apple=pd.read_csv('apple.csv')\n",
    "microsoft=pd.read_csv('microsoft.csv')"
   ]
  },
  {
   "cell_type": "code",
   "execution_count": 46,
   "metadata": {},
   "outputs": [],
   "source": [
    "# in this cell we convert the Date collumn to the datetime type, and make it the index\n",
    "# this is done so we can automatically have the x-axis on line plots be a date\n",
    "# see https://stackoverflow.com/questions/37610983/how-set-column-as-date-index\n",
    "apple['Date']=pd.to_datetime(apple['Date'])\n",
    "microsoft['Date']=pd.to_datetime(microsoft['Date'])\n",
    "apple.set_index('Date',inplace=True)\n",
    "microsoft.set_index('Date',inplace=True)"
   ]
  },
  {
   "cell_type": "code",
   "execution_count": 47,
   "metadata": {},
   "outputs": [
    {
     "name": "stdout",
     "output_type": "stream",
     "text": [
      "(8640, 5)\n",
      "(7312, 5)\n"
     ]
    },
    {
     "data": {
      "text/html": [
       "<div>\n",
       "<style scoped>\n",
       "    .dataframe tbody tr th:only-of-type {\n",
       "        vertical-align: middle;\n",
       "    }\n",
       "\n",
       "    .dataframe tbody tr th {\n",
       "        vertical-align: top;\n",
       "    }\n",
       "\n",
       "    .dataframe thead th {\n",
       "        text-align: right;\n",
       "    }\n",
       "</style>\n",
       "<table border=\"1\" class=\"dataframe\">\n",
       "  <thead>\n",
       "    <tr style=\"text-align: right;\">\n",
       "      <th></th>\n",
       "      <th>Open</th>\n",
       "      <th>High</th>\n",
       "      <th>Low</th>\n",
       "      <th>Close</th>\n",
       "      <th>Volume</th>\n",
       "    </tr>\n",
       "    <tr>\n",
       "      <th>Date</th>\n",
       "      <th></th>\n",
       "      <th></th>\n",
       "      <th></th>\n",
       "      <th></th>\n",
       "      <th></th>\n",
       "    </tr>\n",
       "  </thead>\n",
       "  <tbody>\n",
       "    <tr>\n",
       "      <th>2015-02-23</th>\n",
       "      <td>130.02</td>\n",
       "      <td>133.00</td>\n",
       "      <td>129.66</td>\n",
       "      <td>133.00</td>\n",
       "      <td>67871830.0</td>\n",
       "    </tr>\n",
       "    <tr>\n",
       "      <th>2015-02-20</th>\n",
       "      <td>128.62</td>\n",
       "      <td>129.50</td>\n",
       "      <td>128.05</td>\n",
       "      <td>129.50</td>\n",
       "      <td>48948419.0</td>\n",
       "    </tr>\n",
       "    <tr>\n",
       "      <th>2015-02-19</th>\n",
       "      <td>128.48</td>\n",
       "      <td>129.03</td>\n",
       "      <td>128.33</td>\n",
       "      <td>128.45</td>\n",
       "      <td>37362381.0</td>\n",
       "    </tr>\n",
       "    <tr>\n",
       "      <th>2015-02-18</th>\n",
       "      <td>127.62</td>\n",
       "      <td>128.78</td>\n",
       "      <td>127.45</td>\n",
       "      <td>128.72</td>\n",
       "      <td>44891737.0</td>\n",
       "    </tr>\n",
       "    <tr>\n",
       "      <th>2015-02-17</th>\n",
       "      <td>127.49</td>\n",
       "      <td>128.88</td>\n",
       "      <td>126.92</td>\n",
       "      <td>127.83</td>\n",
       "      <td>63152405.0</td>\n",
       "    </tr>\n",
       "  </tbody>\n",
       "</table>\n",
       "</div>"
      ],
      "text/plain": [
       "              Open    High     Low   Close      Volume\n",
       "Date                                                  \n",
       "2015-02-23  130.02  133.00  129.66  133.00  67871830.0\n",
       "2015-02-20  128.62  129.50  128.05  129.50  48948419.0\n",
       "2015-02-19  128.48  129.03  128.33  128.45  37362381.0\n",
       "2015-02-18  127.62  128.78  127.45  128.72  44891737.0\n",
       "2015-02-17  127.49  128.88  126.92  127.83  63152405.0"
      ]
     },
     "metadata": {},
     "output_type": "display_data"
    },
    {
     "data": {
      "text/html": [
       "<div>\n",
       "<style scoped>\n",
       "    .dataframe tbody tr th:only-of-type {\n",
       "        vertical-align: middle;\n",
       "    }\n",
       "\n",
       "    .dataframe tbody tr th {\n",
       "        vertical-align: top;\n",
       "    }\n",
       "\n",
       "    .dataframe thead th {\n",
       "        text-align: right;\n",
       "    }\n",
       "</style>\n",
       "<table border=\"1\" class=\"dataframe\">\n",
       "  <thead>\n",
       "    <tr style=\"text-align: right;\">\n",
       "      <th></th>\n",
       "      <th>Open</th>\n",
       "      <th>High</th>\n",
       "      <th>Low</th>\n",
       "      <th>Close</th>\n",
       "      <th>Volume</th>\n",
       "    </tr>\n",
       "    <tr>\n",
       "      <th>Date</th>\n",
       "      <th></th>\n",
       "      <th></th>\n",
       "      <th></th>\n",
       "      <th></th>\n",
       "      <th></th>\n",
       "    </tr>\n",
       "  </thead>\n",
       "  <tbody>\n",
       "    <tr>\n",
       "      <th>2015-02-23</th>\n",
       "      <td>43.70</td>\n",
       "      <td>44.19</td>\n",
       "      <td>43.65</td>\n",
       "      <td>44.15</td>\n",
       "      <td>32518754.0</td>\n",
       "    </tr>\n",
       "    <tr>\n",
       "      <th>2015-02-20</th>\n",
       "      <td>43.51</td>\n",
       "      <td>43.88</td>\n",
       "      <td>43.29</td>\n",
       "      <td>43.86</td>\n",
       "      <td>29721133.0</td>\n",
       "    </tr>\n",
       "    <tr>\n",
       "      <th>2015-02-19</th>\n",
       "      <td>43.18</td>\n",
       "      <td>43.53</td>\n",
       "      <td>43.05</td>\n",
       "      <td>43.50</td>\n",
       "      <td>27603420.0</td>\n",
       "    </tr>\n",
       "    <tr>\n",
       "      <th>2015-02-18</th>\n",
       "      <td>43.63</td>\n",
       "      <td>43.70</td>\n",
       "      <td>43.39</td>\n",
       "      <td>43.53</td>\n",
       "      <td>27111657.0</td>\n",
       "    </tr>\n",
       "    <tr>\n",
       "      <th>2015-02-17</th>\n",
       "      <td>43.97</td>\n",
       "      <td>44.00</td>\n",
       "      <td>43.19</td>\n",
       "      <td>43.58</td>\n",
       "      <td>33695749.0</td>\n",
       "    </tr>\n",
       "  </tbody>\n",
       "</table>\n",
       "</div>"
      ],
      "text/plain": [
       "             Open   High    Low  Close      Volume\n",
       "Date                                              \n",
       "2015-02-23  43.70  44.19  43.65  44.15  32518754.0\n",
       "2015-02-20  43.51  43.88  43.29  43.86  29721133.0\n",
       "2015-02-19  43.18  43.53  43.05  43.50  27603420.0\n",
       "2015-02-18  43.63  43.70  43.39  43.53  27111657.0\n",
       "2015-02-17  43.97  44.00  43.19  43.58  33695749.0"
      ]
     },
     "metadata": {},
     "output_type": "display_data"
    }
   ],
   "source": [
    "# take a look at the shape and first few rows of each dataset\n",
    "print (apple.shape)\n",
    "print (microsoft.shape)\n",
    "\n",
    "display (apple.head())\n",
    "display (microsoft.head())"
   ]
  },
  {
   "cell_type": "code",
   "execution_count": 48,
   "metadata": {},
   "outputs": [
    {
     "data": {
      "text/html": [
       "<div>\n",
       "<style scoped>\n",
       "    .dataframe tbody tr th:only-of-type {\n",
       "        vertical-align: middle;\n",
       "    }\n",
       "\n",
       "    .dataframe tbody tr th {\n",
       "        vertical-align: top;\n",
       "    }\n",
       "\n",
       "    .dataframe thead th {\n",
       "        text-align: right;\n",
       "    }\n",
       "</style>\n",
       "<table border=\"1\" class=\"dataframe\">\n",
       "  <thead>\n",
       "    <tr style=\"text-align: right;\">\n",
       "      <th></th>\n",
       "      <th>Openapple</th>\n",
       "      <th>Highapple</th>\n",
       "      <th>Lowapple</th>\n",
       "      <th>Closeapple</th>\n",
       "      <th>Volumeapple</th>\n",
       "      <th>Openmicrosoft</th>\n",
       "      <th>Highmicrosoft</th>\n",
       "      <th>Lowmicrosoft</th>\n",
       "      <th>Closemicrosoft</th>\n",
       "      <th>Volumemicrosoft</th>\n",
       "    </tr>\n",
       "    <tr>\n",
       "      <th>Date</th>\n",
       "      <th></th>\n",
       "      <th></th>\n",
       "      <th></th>\n",
       "      <th></th>\n",
       "      <th></th>\n",
       "      <th></th>\n",
       "      <th></th>\n",
       "      <th></th>\n",
       "      <th></th>\n",
       "      <th></th>\n",
       "    </tr>\n",
       "  </thead>\n",
       "  <tbody>\n",
       "    <tr>\n",
       "      <th>2015-02-23</th>\n",
       "      <td>130.02</td>\n",
       "      <td>133.00</td>\n",
       "      <td>129.66</td>\n",
       "      <td>133.00</td>\n",
       "      <td>67871830.0</td>\n",
       "      <td>43.70</td>\n",
       "      <td>44.19</td>\n",
       "      <td>43.65</td>\n",
       "      <td>44.15</td>\n",
       "      <td>32518754.0</td>\n",
       "    </tr>\n",
       "    <tr>\n",
       "      <th>2015-02-20</th>\n",
       "      <td>128.62</td>\n",
       "      <td>129.50</td>\n",
       "      <td>128.05</td>\n",
       "      <td>129.50</td>\n",
       "      <td>48948419.0</td>\n",
       "      <td>43.51</td>\n",
       "      <td>43.88</td>\n",
       "      <td>43.29</td>\n",
       "      <td>43.86</td>\n",
       "      <td>29721133.0</td>\n",
       "    </tr>\n",
       "    <tr>\n",
       "      <th>2015-02-19</th>\n",
       "      <td>128.48</td>\n",
       "      <td>129.03</td>\n",
       "      <td>128.33</td>\n",
       "      <td>128.45</td>\n",
       "      <td>37362381.0</td>\n",
       "      <td>43.18</td>\n",
       "      <td>43.53</td>\n",
       "      <td>43.05</td>\n",
       "      <td>43.50</td>\n",
       "      <td>27603420.0</td>\n",
       "    </tr>\n",
       "    <tr>\n",
       "      <th>2015-02-18</th>\n",
       "      <td>127.62</td>\n",
       "      <td>128.78</td>\n",
       "      <td>127.45</td>\n",
       "      <td>128.72</td>\n",
       "      <td>44891737.0</td>\n",
       "      <td>43.63</td>\n",
       "      <td>43.70</td>\n",
       "      <td>43.39</td>\n",
       "      <td>43.53</td>\n",
       "      <td>27111657.0</td>\n",
       "    </tr>\n",
       "    <tr>\n",
       "      <th>2015-02-17</th>\n",
       "      <td>127.49</td>\n",
       "      <td>128.88</td>\n",
       "      <td>126.92</td>\n",
       "      <td>127.83</td>\n",
       "      <td>63152405.0</td>\n",
       "      <td>43.97</td>\n",
       "      <td>44.00</td>\n",
       "      <td>43.19</td>\n",
       "      <td>43.58</td>\n",
       "      <td>33695749.0</td>\n",
       "    </tr>\n",
       "  </tbody>\n",
       "</table>\n",
       "</div>"
      ],
      "text/plain": [
       "            Openapple  Highapple  Lowapple  Closeapple  Volumeapple  \\\n",
       "Date                                                                  \n",
       "2015-02-23     130.02     133.00    129.66      133.00   67871830.0   \n",
       "2015-02-20     128.62     129.50    128.05      129.50   48948419.0   \n",
       "2015-02-19     128.48     129.03    128.33      128.45   37362381.0   \n",
       "2015-02-18     127.62     128.78    127.45      128.72   44891737.0   \n",
       "2015-02-17     127.49     128.88    126.92      127.83   63152405.0   \n",
       "\n",
       "            Openmicrosoft  Highmicrosoft  Lowmicrosoft  Closemicrosoft  \\\n",
       "Date                                                                     \n",
       "2015-02-23          43.70          44.19         43.65           44.15   \n",
       "2015-02-20          43.51          43.88         43.29           43.86   \n",
       "2015-02-19          43.18          43.53         43.05           43.50   \n",
       "2015-02-18          43.63          43.70         43.39           43.53   \n",
       "2015-02-17          43.97          44.00         43.19           43.58   \n",
       "\n",
       "            Volumemicrosoft  \n",
       "Date                         \n",
       "2015-02-23       32518754.0  \n",
       "2015-02-20       29721133.0  \n",
       "2015-02-19       27603420.0  \n",
       "2015-02-18       27111657.0  \n",
       "2015-02-17       33695749.0  "
      ]
     },
     "metadata": {},
     "output_type": "display_data"
    }
   ],
   "source": [
    "# here we join the datasets together.  This is done so in the next step we can see both on the same plot \n",
    "fboth=apple.join(microsoft, lsuffix='apple', rsuffix='microsoft')\n",
    "display(fboth.head())"
   ]
  },
  {
   "cell_type": "code",
   "execution_count": 49,
   "metadata": {},
   "outputs": [
    {
     "data": {
      "text/plain": [
       "<matplotlib.axes._subplots.AxesSubplot at 0x7f7b435fb438>"
      ]
     },
     "execution_count": 49,
     "metadata": {},
     "output_type": "execute_result"
    },
    {
     "data": {
      "image/png": "[encoded data removed]",
      "text/plain": [
       "<Figure size 432x288 with 1 Axes>"
      ]
     },
     "metadata": {
      "needs_background": "light"
     },
     "output_type": "display_data"
    }
   ],
   "source": [
    "# now let's plot microsoft and apple closing price on the same plot\n",
    "%matplotlib inline\n",
    "fboth.plot.line(y=['Closemicrosoft', 'Closeapple'])"
   ]
  },
  {
   "cell_type": "code",
   "execution_count": 53,
   "metadata": {},
   "outputs": [],
   "source": [
    "fboth['absdifapple']=(abs(fboth['Highapple']-fboth['Lowapple'])/fboth['Lowapple'])\n",
    "fboth['volnormapple']=fboth['Volumeapple']/fboth['Volumeapple'].max()"
   ]
  },
  {
   "cell_type": "code",
   "execution_count": 54,
   "metadata": {},
   "outputs": [
    {
     "data": {
      "text/plain": [
       "<matplotlib.axes._subplots.AxesSubplot at 0x7f7b433a8588>"
      ]
     },
     "execution_count": 54,
     "metadata": {},
     "output_type": "execute_result"
    },
    {
     "data": {
      "image/png": "[encoded data removed]",
      "text/plain": [
       "<Figure size 432x288 with 1 Axes>"
      ]
     },
     "metadata": {
      "needs_background": "light"
     },
     "output_type": "display_data"
    }
   ],
   "source": [
    "fboth.plot.line(y=['absdifapple','volnormapple'])"
   ]
  }
 ],
 "metadata": {
  "kernelspec": {
   "display_name": "Python 3",
   "language": "python",
   "name": "python3"
  },
  "language_info": {
   "codemirror_mode": {
    "name": "ipython",
    "version": 3
   },
   "file_extension": ".py",
   "mimetype": "text/x-python",
   "name": "python",
   "nbconvert_exporter": "python",
   "pygments_lexer": "ipython3",
   "version": "3.7.3"
  }
 },
 "nbformat": 4,
 "nbformat_minor": 1
}
