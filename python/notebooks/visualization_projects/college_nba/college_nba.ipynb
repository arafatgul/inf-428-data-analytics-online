{
 "cells": [
  {
   "cell_type": "code",
   "execution_count": 14,
   "metadata": {},
   "outputs": [],
   "source": [
    "import pandas as pd"
   ]
  },
  {
   "cell_type": "code",
   "execution_count": 15,
   "metadata": {},
   "outputs": [],
   "source": [
    "players=pd.read_csv('players.csv')"
   ]
  },
  {
   "cell_type": "code",
   "execution_count": 16,
   "metadata": {},
   "outputs": [
    {
     "data": {
      "text/plain": [
       "(4576, 34)"
      ]
     },
     "execution_count": 16,
     "metadata": {},
     "output_type": "execute_result"
    }
   ],
   "source": [
    "players.shape"
   ]
  },
  {
   "cell_type": "code",
   "execution_count": 17,
   "metadata": {},
   "outputs": [
    {
     "data": {
      "text/plain": [
       "(4576, 34)"
      ]
     },
     "execution_count": 17,
     "metadata": {},
     "output_type": "execute_result"
    }
   ],
   "source": [
    "players.shape"
   ]
  },
  {
   "cell_type": "code",
   "execution_count": 18,
   "metadata": {},
   "outputs": [
    {
     "data": {
      "text/html": [
       "<div>\n",
       "<style scoped>\n",
       "    .dataframe tbody tr th:only-of-type {\n",
       "        vertical-align: middle;\n",
       "    }\n",
       "\n",
       "    .dataframe tbody tr th {\n",
       "        vertical-align: top;\n",
       "    }\n",
       "\n",
       "    .dataframe thead th {\n",
       "        text-align: right;\n",
       "    }\n",
       "</style>\n",
       "<table border=\"1\" class=\"dataframe\">\n",
       "  <thead>\n",
       "    <tr style=\"text-align: right;\">\n",
       "      <th></th>\n",
       "      <th>Unnamed: 0</th>\n",
       "      <th>active_from</th>\n",
       "      <th>active_to</th>\n",
       "      <th>birth_date</th>\n",
       "      <th>college</th>\n",
       "      <th>height</th>\n",
       "      <th>name</th>\n",
       "      <th>position</th>\n",
       "      <th>url</th>\n",
       "      <th>weight</th>\n",
       "      <th>...</th>\n",
       "      <th>NCAA__3ptpg</th>\n",
       "      <th>NCAA_efgpct</th>\n",
       "      <th>NCAA_fgapg</th>\n",
       "      <th>NCAA_fgpct</th>\n",
       "      <th>NCAA_fgpg</th>\n",
       "      <th>NCAA_ft</th>\n",
       "      <th>NCAA_ftapg</th>\n",
       "      <th>NCAA_ftpg</th>\n",
       "      <th>NCAA_games</th>\n",
       "      <th>NCAA_ppg</th>\n",
       "    </tr>\n",
       "  </thead>\n",
       "  <tbody>\n",
       "    <tr>\n",
       "      <th>0</th>\n",
       "      <td>0</td>\n",
       "      <td>1991</td>\n",
       "      <td>1995</td>\n",
       "      <td>June 24, 1968</td>\n",
       "      <td>Duke University</td>\n",
       "      <td>6-10</td>\n",
       "      <td>Alaa Abdelnaby</td>\n",
       "      <td>F-C</td>\n",
       "      <td>/players/a/abdelal01.html</td>\n",
       "      <td>240.0</td>\n",
       "      <td>...</td>\n",
       "      <td>0.0</td>\n",
       "      <td>NaN</td>\n",
       "      <td>5.6</td>\n",
       "      <td>0.599</td>\n",
       "      <td>3.3</td>\n",
       "      <td>0.728</td>\n",
       "      <td>2.5</td>\n",
       "      <td>1.8</td>\n",
       "      <td>134.0</td>\n",
       "      <td>8.5</td>\n",
       "    </tr>\n",
       "    <tr>\n",
       "      <th>1</th>\n",
       "      <td>1</td>\n",
       "      <td>1969</td>\n",
       "      <td>1978</td>\n",
       "      <td>April 7, 1946</td>\n",
       "      <td>Iowa State University</td>\n",
       "      <td>6-9</td>\n",
       "      <td>Zaid Abdul-Aziz</td>\n",
       "      <td>C-F</td>\n",
       "      <td>/players/a/abdulza01.html</td>\n",
       "      <td>235.0</td>\n",
       "      <td>...</td>\n",
       "      <td>NaN</td>\n",
       "      <td>NaN</td>\n",
       "      <td>NaN</td>\n",
       "      <td>NaN</td>\n",
       "      <td>NaN</td>\n",
       "      <td>NaN</td>\n",
       "      <td>NaN</td>\n",
       "      <td>NaN</td>\n",
       "      <td>NaN</td>\n",
       "      <td>NaN</td>\n",
       "    </tr>\n",
       "    <tr>\n",
       "      <th>2</th>\n",
       "      <td>2</td>\n",
       "      <td>1970</td>\n",
       "      <td>1989</td>\n",
       "      <td>April 16, 1947</td>\n",
       "      <td>University of California, Los Angeles</td>\n",
       "      <td>7-2</td>\n",
       "      <td>Kareem Abdul-Jabbar</td>\n",
       "      <td>C</td>\n",
       "      <td>/players/a/abdulka01.html</td>\n",
       "      <td>225.0</td>\n",
       "      <td>...</td>\n",
       "      <td>NaN</td>\n",
       "      <td>NaN</td>\n",
       "      <td>16.8</td>\n",
       "      <td>0.639</td>\n",
       "      <td>10.7</td>\n",
       "      <td>0.628</td>\n",
       "      <td>7.9</td>\n",
       "      <td>5.0</td>\n",
       "      <td>88.0</td>\n",
       "      <td>26.4</td>\n",
       "    </tr>\n",
       "    <tr>\n",
       "      <th>3</th>\n",
       "      <td>3</td>\n",
       "      <td>1991</td>\n",
       "      <td>2001</td>\n",
       "      <td>March 9, 1969</td>\n",
       "      <td>Louisiana State University</td>\n",
       "      <td>6-1</td>\n",
       "      <td>Mahmoud Abdul-Rauf</td>\n",
       "      <td>G</td>\n",
       "      <td>/players/a/abdulma02.html</td>\n",
       "      <td>162.0</td>\n",
       "      <td>...</td>\n",
       "      <td>2.7</td>\n",
       "      <td>NaN</td>\n",
       "      <td>21.9</td>\n",
       "      <td>0.474</td>\n",
       "      <td>10.4</td>\n",
       "      <td>0.863</td>\n",
       "      <td>6.4</td>\n",
       "      <td>5.5</td>\n",
       "      <td>64.0</td>\n",
       "      <td>29.0</td>\n",
       "    </tr>\n",
       "    <tr>\n",
       "      <th>4</th>\n",
       "      <td>4</td>\n",
       "      <td>1998</td>\n",
       "      <td>2003</td>\n",
       "      <td>November 3, 1974</td>\n",
       "      <td>University of Michigan, San Jose State University</td>\n",
       "      <td>6-6</td>\n",
       "      <td>Tariq Abdul-Wahad</td>\n",
       "      <td>F</td>\n",
       "      <td>/players/a/abdulta01.html</td>\n",
       "      <td>223.0</td>\n",
       "      <td>...</td>\n",
       "      <td>NaN</td>\n",
       "      <td>NaN</td>\n",
       "      <td>NaN</td>\n",
       "      <td>NaN</td>\n",
       "      <td>NaN</td>\n",
       "      <td>NaN</td>\n",
       "      <td>NaN</td>\n",
       "      <td>NaN</td>\n",
       "      <td>NaN</td>\n",
       "      <td>NaN</td>\n",
       "    </tr>\n",
       "  </tbody>\n",
       "</table>\n",
       "<p>5 rows × 34 columns</p>\n",
       "</div>"
      ],
      "text/plain": [
       "   Unnamed: 0  active_from  active_to        birth_date  \\\n",
       "0           0         1991       1995     June 24, 1968   \n",
       "1           1         1969       1978     April 7, 1946   \n",
       "2           2         1970       1989    April 16, 1947   \n",
       "3           3         1991       2001     March 9, 1969   \n",
       "4           4         1998       2003  November 3, 1974   \n",
       "\n",
       "                                             college height  \\\n",
       "0                                    Duke University   6-10   \n",
       "1                              Iowa State University    6-9   \n",
       "2              University of California, Los Angeles    7-2   \n",
       "3                         Louisiana State University    6-1   \n",
       "4  University of Michigan, San Jose State University    6-6   \n",
       "\n",
       "                  name position                        url  weight  ...  \\\n",
       "0       Alaa Abdelnaby      F-C  /players/a/abdelal01.html   240.0  ...   \n",
       "1      Zaid Abdul-Aziz      C-F  /players/a/abdulza01.html   235.0  ...   \n",
       "2  Kareem Abdul-Jabbar        C  /players/a/abdulka01.html   225.0  ...   \n",
       "3   Mahmoud Abdul-Rauf        G  /players/a/abdulma02.html   162.0  ...   \n",
       "4    Tariq Abdul-Wahad        F  /players/a/abdulta01.html   223.0  ...   \n",
       "\n",
       "   NCAA__3ptpg  NCAA_efgpct  NCAA_fgapg  NCAA_fgpct  NCAA_fgpg  NCAA_ft  \\\n",
       "0          0.0          NaN         5.6       0.599        3.3    0.728   \n",
       "1          NaN          NaN         NaN         NaN        NaN      NaN   \n",
       "2          NaN          NaN        16.8       0.639       10.7    0.628   \n",
       "3          2.7          NaN        21.9       0.474       10.4    0.863   \n",
       "4          NaN          NaN         NaN         NaN        NaN      NaN   \n",
       "\n",
       "   NCAA_ftapg  NCAA_ftpg  NCAA_games  NCAA_ppg  \n",
       "0         2.5        1.8       134.0       8.5  \n",
       "1         NaN        NaN         NaN       NaN  \n",
       "2         7.9        5.0        88.0      26.4  \n",
       "3         6.4        5.5        64.0      29.0  \n",
       "4         NaN        NaN         NaN       NaN  \n",
       "\n",
       "[5 rows x 34 columns]"
      ]
     },
     "execution_count": 18,
     "metadata": {},
     "output_type": "execute_result"
    }
   ],
   "source": [
    "players=players.drop()"
   ]
  },
  {
   "cell_type": "code",
   "execution_count": 13,
   "metadata": {},
   "outputs": [
    {
     "data": {
      "text/plain": [
       "(0, 34)"
      ]
     },
     "execution_count": 13,
     "metadata": {},
     "output_type": "execute_result"
    }
   ],
   "source": [
    "players.shape"
   ]
  },
  {
   "cell_type": "code",
   "execution_count": null,
   "metadata": {},
   "outputs": [],
   "source": []
  }
 ],
 "metadata": {
  "kernelspec": {
   "display_name": "Python 3",
   "language": "python",
   "name": "python3"
  },
  "language_info": {
   "codemirror_mode": {
    "name": "ipython",
    "version": 3
   },
   "file_extension": ".py",
   "mimetype": "text/x-python",
   "name": "python",
   "nbconvert_exporter": "python",
   "pygments_lexer": "ipython3",
   "version": "3.7.3"
  }
 },
 "nbformat": 4,
 "nbformat_minor": 2
}
