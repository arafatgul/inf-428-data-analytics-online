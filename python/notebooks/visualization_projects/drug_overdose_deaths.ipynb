{
 "cells": [
  {
   "cell_type": "code",
   "execution_count": 6,
   "metadata": {},
   "outputs": [],
   "source": [
    "import pandas as pd"
   ]
  },
  {
   "cell_type": "code",
   "execution_count": 26,
   "metadata": {},
   "outputs": [],
   "source": [
    "# read the data\n",
    "data=pd.read_csv('Accidental_Drug_Related_Deaths_2012-2018_Megan_Kuroski.csv')"
   ]
  },
  {
   "cell_type": "code",
   "execution_count": 27,
   "metadata": {},
   "outputs": [
    {
     "name": "stdout",
     "output_type": "stream",
     "text": [
      "(5105, 41)\n"
     ]
    },
    {
     "data": {
      "text/html": [
       "<div>\n",
       "<style scoped>\n",
       "    .dataframe tbody tr th:only-of-type {\n",
       "        vertical-align: middle;\n",
       "    }\n",
       "\n",
       "    .dataframe tbody tr th {\n",
       "        vertical-align: top;\n",
       "    }\n",
       "\n",
       "    .dataframe thead th {\n",
       "        text-align: right;\n",
       "    }\n",
       "</style>\n",
       "<table border=\"1\" class=\"dataframe\">\n",
       "  <thead>\n",
       "    <tr style=\"text-align: right;\">\n",
       "      <th></th>\n",
       "      <th>ID</th>\n",
       "      <th>Date</th>\n",
       "      <th>DateType</th>\n",
       "      <th>Age</th>\n",
       "      <th>Sex</th>\n",
       "      <th>Race</th>\n",
       "      <th>ResidenceCity</th>\n",
       "      <th>ResidenceCounty</th>\n",
       "      <th>ResidenceState</th>\n",
       "      <th>DeathCity</th>\n",
       "      <th>...</th>\n",
       "      <th>Tramad</th>\n",
       "      <th>Morphine_NotHeroin</th>\n",
       "      <th>Hydromorphone</th>\n",
       "      <th>Other</th>\n",
       "      <th>OpiateNOS</th>\n",
       "      <th>AnyOpioid</th>\n",
       "      <th>MannerofDeath</th>\n",
       "      <th>DeathCityGeo</th>\n",
       "      <th>ResidenceCityGeo</th>\n",
       "      <th>InjuryCityGeo</th>\n",
       "    </tr>\n",
       "  </thead>\n",
       "  <tbody>\n",
       "    <tr>\n",
       "      <th>0</th>\n",
       "      <td>14-0273</td>\n",
       "      <td>06/28/2014 12:00:00 AM</td>\n",
       "      <td>DateReported</td>\n",
       "      <td>NaN</td>\n",
       "      <td>NaN</td>\n",
       "      <td>NaN</td>\n",
       "      <td>NaN</td>\n",
       "      <td>NaN</td>\n",
       "      <td>NaN</td>\n",
       "      <td>NaN</td>\n",
       "      <td>...</td>\n",
       "      <td>NaN</td>\n",
       "      <td>NaN</td>\n",
       "      <td>NaN</td>\n",
       "      <td>NaN</td>\n",
       "      <td>NaN</td>\n",
       "      <td>NaN</td>\n",
       "      <td>Accident</td>\n",
       "      <td>CT\\n(41.575155, -72.738288)</td>\n",
       "      <td>CT\\n(41.575155, -72.738288)</td>\n",
       "      <td>CT\\n(41.575155, -72.738288)</td>\n",
       "    </tr>\n",
       "    <tr>\n",
       "      <th>1</th>\n",
       "      <td>13-0102</td>\n",
       "      <td>03/21/2013 12:00:00 AM</td>\n",
       "      <td>DateofDeath</td>\n",
       "      <td>48.0</td>\n",
       "      <td>Male</td>\n",
       "      <td>Black</td>\n",
       "      <td>NORWALK</td>\n",
       "      <td>NaN</td>\n",
       "      <td>NaN</td>\n",
       "      <td>NORWALK</td>\n",
       "      <td>...</td>\n",
       "      <td>NaN</td>\n",
       "      <td>NaN</td>\n",
       "      <td>NaN</td>\n",
       "      <td>NaN</td>\n",
       "      <td>NaN</td>\n",
       "      <td>NaN</td>\n",
       "      <td>Accident</td>\n",
       "      <td>Norwalk, CT\\n(41.11805, -73.412906)</td>\n",
       "      <td>NORWALK, CT\\n(41.11805, -73.412906)</td>\n",
       "      <td>CT\\n(41.575155, -72.738288)</td>\n",
       "    </tr>\n",
       "    <tr>\n",
       "      <th>2</th>\n",
       "      <td>16-0165</td>\n",
       "      <td>03/13/2016 12:00:00 AM</td>\n",
       "      <td>DateofDeath</td>\n",
       "      <td>30.0</td>\n",
       "      <td>Female</td>\n",
       "      <td>White</td>\n",
       "      <td>SANDY HOOK</td>\n",
       "      <td>FAIRFIELD</td>\n",
       "      <td>CT</td>\n",
       "      <td>DANBURY</td>\n",
       "      <td>...</td>\n",
       "      <td>NaN</td>\n",
       "      <td>NaN</td>\n",
       "      <td>NaN</td>\n",
       "      <td>NaN</td>\n",
       "      <td>NaN</td>\n",
       "      <td>Y</td>\n",
       "      <td>Accident</td>\n",
       "      <td>Danbury, CT\\n(41.393666, -73.451539)</td>\n",
       "      <td>SANDY HOOK, CT\\n(41.419998, -73.282501)</td>\n",
       "      <td>NaN</td>\n",
       "    </tr>\n",
       "    <tr>\n",
       "      <th>3</th>\n",
       "      <td>16-0208</td>\n",
       "      <td>03/31/2016 12:00:00 AM</td>\n",
       "      <td>DateofDeath</td>\n",
       "      <td>23.0</td>\n",
       "      <td>Male</td>\n",
       "      <td>White</td>\n",
       "      <td>RYE</td>\n",
       "      <td>WESTCHESTER</td>\n",
       "      <td>NY</td>\n",
       "      <td>GREENWICH</td>\n",
       "      <td>...</td>\n",
       "      <td>NaN</td>\n",
       "      <td>NaN</td>\n",
       "      <td>NaN</td>\n",
       "      <td>NaN</td>\n",
       "      <td>NaN</td>\n",
       "      <td>Y</td>\n",
       "      <td>Accident</td>\n",
       "      <td>Greenwich, CT\\n(41.026526, -73.628549)</td>\n",
       "      <td>NaN</td>\n",
       "      <td>NaN</td>\n",
       "    </tr>\n",
       "    <tr>\n",
       "      <th>4</th>\n",
       "      <td>13-0052</td>\n",
       "      <td>02/13/2013 12:00:00 AM</td>\n",
       "      <td>DateofDeath</td>\n",
       "      <td>22.0</td>\n",
       "      <td>Male</td>\n",
       "      <td>Asian, Other</td>\n",
       "      <td>FLUSHING</td>\n",
       "      <td>QUEENS</td>\n",
       "      <td>NaN</td>\n",
       "      <td>GREENWICH</td>\n",
       "      <td>...</td>\n",
       "      <td>NaN</td>\n",
       "      <td>NaN</td>\n",
       "      <td>NaN</td>\n",
       "      <td>NaN</td>\n",
       "      <td>NaN</td>\n",
       "      <td>NaN</td>\n",
       "      <td>Accident</td>\n",
       "      <td>Greenwich, CT\\n(41.026526, -73.628549)</td>\n",
       "      <td>NaN</td>\n",
       "      <td>CT\\n(41.575155, -72.738288)</td>\n",
       "    </tr>\n",
       "  </tbody>\n",
       "</table>\n",
       "<p>5 rows × 41 columns</p>\n",
       "</div>"
      ],
      "text/plain": [
       "        ID                    Date      DateType   Age     Sex          Race  \\\n",
       "0  14-0273  06/28/2014 12:00:00 AM  DateReported   NaN     NaN           NaN   \n",
       "1  13-0102  03/21/2013 12:00:00 AM   DateofDeath  48.0    Male         Black   \n",
       "2  16-0165  03/13/2016 12:00:00 AM   DateofDeath  30.0  Female         White   \n",
       "3  16-0208  03/31/2016 12:00:00 AM   DateofDeath  23.0    Male         White   \n",
       "4  13-0052  02/13/2013 12:00:00 AM   DateofDeath  22.0    Male  Asian, Other   \n",
       "\n",
       "  ResidenceCity ResidenceCounty ResidenceState  DeathCity  ... Tramad  \\\n",
       "0           NaN             NaN            NaN        NaN  ...    NaN   \n",
       "1       NORWALK             NaN            NaN    NORWALK  ...    NaN   \n",
       "2    SANDY HOOK       FAIRFIELD             CT    DANBURY  ...    NaN   \n",
       "3           RYE     WESTCHESTER             NY  GREENWICH  ...    NaN   \n",
       "4      FLUSHING          QUEENS            NaN  GREENWICH  ...    NaN   \n",
       "\n",
       "  Morphine_NotHeroin Hydromorphone Other OpiateNOS AnyOpioid MannerofDeath  \\\n",
       "0                NaN           NaN   NaN       NaN       NaN      Accident   \n",
       "1                NaN           NaN   NaN       NaN       NaN      Accident   \n",
       "2                NaN           NaN   NaN       NaN         Y      Accident   \n",
       "3                NaN           NaN   NaN       NaN         Y      Accident   \n",
       "4                NaN           NaN   NaN       NaN       NaN      Accident   \n",
       "\n",
       "                             DeathCityGeo  \\\n",
       "0             CT\\n(41.575155, -72.738288)   \n",
       "1     Norwalk, CT\\n(41.11805, -73.412906)   \n",
       "2    Danbury, CT\\n(41.393666, -73.451539)   \n",
       "3  Greenwich, CT\\n(41.026526, -73.628549)   \n",
       "4  Greenwich, CT\\n(41.026526, -73.628549)   \n",
       "\n",
       "                          ResidenceCityGeo                InjuryCityGeo  \n",
       "0              CT\\n(41.575155, -72.738288)  CT\\n(41.575155, -72.738288)  \n",
       "1      NORWALK, CT\\n(41.11805, -73.412906)  CT\\n(41.575155, -72.738288)  \n",
       "2  SANDY HOOK, CT\\n(41.419998, -73.282501)                          NaN  \n",
       "3                                      NaN                          NaN  \n",
       "4                                      NaN  CT\\n(41.575155, -72.738288)  \n",
       "\n",
       "[5 rows x 41 columns]"
      ]
     },
     "execution_count": 27,
     "metadata": {},
     "output_type": "execute_result"
    }
   ],
   "source": [
    "# look at shape of data and head\n",
    "print(data.shape)\n",
    "data.head()"
   ]
  },
  {
   "cell_type": "code",
   "execution_count": 28,
   "metadata": {},
   "outputs": [
    {
     "name": "stdout",
     "output_type": "stream",
     "text": [
      "(0, 41)\n"
     ]
    }
   ],
   "source": [
    "# try getting rid of na (empty data)... this doesn't help because every row has an na and we end up with nothing\n",
    "data_nona=data.dropna()\n",
    "print(data_nona.shape)"
   ]
  },
  {
   "cell_type": "code",
   "execution_count": 29,
   "metadata": {},
   "outputs": [],
   "source": [
    "# another thing we can do is just count the number of 'Y' for different drugs\n",
    "heroin_count=data['Heroin'].value_counts()['Y']\n",
    "cocaine_count=data['Cocaine'].value_counts()['Y']\n",
    "fentanyl_count=data['Fentanyl'].value_counts()['Y']\n",
    "counts=[heroin_count, cocaine_count, fentanyl_count]"
   ]
  },
  {
   "cell_type": "code",
   "execution_count": 30,
   "metadata": {},
   "outputs": [],
   "source": [
    "%matplotlib inline\n",
    "import matplotlib.pyplot as plt"
   ]
  },
  {
   "cell_type": "code",
   "execution_count": 31,
   "metadata": {},
   "outputs": [
    {
     "data": {
      "text/plain": [
       "<BarContainer object of 3 artists>"
      ]
     },
     "execution_count": 31,
     "metadata": {},
     "output_type": "execute_result"
    },
    {
     "data": {
      "image/png": "[encoded data removed]",
      "text/plain": [
       "<Figure size 432x288 with 1 Axes>"
      ]
     },
     "metadata": {
      "needs_background": "light"
     },
     "output_type": "display_data"
    }
   ],
   "source": [
    "# then plot as a bar plot\n",
    "plt.bar([1,2,3],counts)"
   ]
  },
  {
   "cell_type": "code",
   "execution_count": null,
   "metadata": {},
   "outputs": [],
   "source": []
  }
 ],
 "metadata": {
  "kernelspec": {
   "display_name": "Python 3",
   "language": "python",
   "name": "python3"
  },
  "language_info": {
   "codemirror_mode": {
    "name": "ipython",
    "version": 3
   },
   "file_extension": ".py",
   "mimetype": "text/x-python",
   "name": "python",
   "nbconvert_exporter": "python",
   "pygments_lexer": "ipython3",
   "version": "3.7.3"
  }
 },
 "nbformat": 4,
 "nbformat_minor": 2
}
